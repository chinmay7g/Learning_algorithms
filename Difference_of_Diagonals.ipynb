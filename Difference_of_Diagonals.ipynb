{
 "cells": [
  {
   "cell_type": "code",
   "execution_count": 1,
   "metadata": {},
   "outputs": [],
   "source": [
    "import numpy as np"
   ]
  },
  {
   "cell_type": "code",
   "execution_count": 2,
   "metadata": {},
   "outputs": [],
   "source": [
    "def defdiag(arr,n):\n",
    "    \n",
    "    #initialise diagonals\n",
    "    d1 = 0\n",
    "    d2 = 0\n",
    "    \n",
    "    for i in range(0,n):\n",
    "        \n",
    "        for j in range(0,n):\n",
    "            \n",
    "            if ( i == j):\n",
    "                d1 += arr[i][j]\n",
    "                \n",
    "            if ( i == n - j -1):\n",
    "                d2 += arr[i][j]\n",
    "                \n",
    "    #returning absolute value of difference\n",
    "    \n",
    "    return abs( d1 - d2)"
   ]
  },
  {
   "cell_type": "code",
   "execution_count": 11,
   "metadata": {},
   "outputs": [
    {
     "data": {
      "text/plain": [
       "array([[0.24321538, 0.90826383, 0.17105181],\n",
       "       [0.05186556, 0.66529099, 0.943358  ],\n",
       "       [0.427501  , 0.48429136, 0.32902785]])"
      ]
     },
     "execution_count": 11,
     "metadata": {},
     "output_type": "execute_result"
    }
   ],
   "source": [
    "arr = np.random.rand(9).reshape(3,3)\n",
    "arr\n"
   ]
  },
  {
   "cell_type": "code",
   "execution_count": 17,
   "metadata": {},
   "outputs": [
    {
     "data": {
      "text/plain": [
       "0.026309586037706945"
      ]
     },
     "execution_count": 17,
     "metadata": {},
     "output_type": "execute_result"
    }
   ],
   "source": [
    "x = defdiag(arr,3)\n",
    "x"
   ]
  },
  {
   "cell_type": "code",
   "execution_count": 13,
   "metadata": {},
   "outputs": [
    {
     "data": {
      "text/plain": [
       "array([[ 2. ,  6.2, 10.4, 14.6],\n",
       "       [18.8, 23. , 27.2, 31.4],\n",
       "       [35.6, 39.8, 44. , 48.2],\n",
       "       [52.4, 56.6, 60.8, 65. ]])"
      ]
     },
     "execution_count": 13,
     "metadata": {},
     "output_type": "execute_result"
    }
   ],
   "source": [
    "arr1 = np.linspace(2,65,16).reshape(4,4)\n",
    "arr1"
   ]
  },
  {
   "cell_type": "code",
   "execution_count": 15,
   "metadata": {},
   "outputs": [
    {
     "data": {
      "text/plain": [
       "0.0"
      ]
     },
     "execution_count": 15,
     "metadata": {},
     "output_type": "execute_result"
    }
   ],
   "source": [
    "defdiag(arr1,4)"
   ]
  },
  {
   "cell_type": "code",
   "execution_count": null,
   "metadata": {},
   "outputs": [],
   "source": []
  }
 ],
 "metadata": {
  "kernelspec": {
   "display_name": "Python 3",
   "language": "python",
   "name": "python3"
  },
  "language_info": {
   "codemirror_mode": {
    "name": "ipython",
    "version": 3
   },
   "file_extension": ".py",
   "mimetype": "text/x-python",
   "name": "python",
   "nbconvert_exporter": "python",
   "pygments_lexer": "ipython3",
   "version": "3.7.4"
  }
 },
 "nbformat": 4,
 "nbformat_minor": 2
}
